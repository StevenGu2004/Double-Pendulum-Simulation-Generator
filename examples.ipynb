{
 "cells": [
  {
   "cell_type": "code",
   "execution_count": 2,
   "metadata": {},
   "outputs": [],
   "source": [
    "import import_ipynb\n",
    "from double_pendulum_simulation_generator import DoublePendulumAnimated\n",
    "\n",
    "# Sample simulations\n",
    "# dp = DoublePendulumAnimated()\n",
    "# dp.generate_dps(animating_energy=True)\n",
    "# dp2 = DoublePendulumAnimated(n=5, fps=60, t_end=25, name=\"dp2\", trace_size=10)\n",
    "# dp2.generate_dps(animating_energy=True, dark_bg=True)\n",
    "# dp5 = DoublePendulumAnimated(n=32, t_end=15*2, name=\"dp5\", trace_size=5, variation=np.pi/64, ic=[np.pi/2, 0, np.pi/2, 0])\n",
    "# dp5.generate_dps()"
   ]
  }
 ],
 "metadata": {
  "kernelspec": {
   "display_name": "Python 3",
   "language": "python",
   "name": "python3"
  },
  "language_info": {
   "codemirror_mode": {
    "name": "ipython",
    "version": 3
   },
   "file_extension": ".py",
   "mimetype": "text/x-python",
   "name": "python",
   "nbconvert_exporter": "python",
   "pygments_lexer": "ipython3",
   "version": "3.10.0"
  }
 },
 "nbformat": 4,
 "nbformat_minor": 2
}
