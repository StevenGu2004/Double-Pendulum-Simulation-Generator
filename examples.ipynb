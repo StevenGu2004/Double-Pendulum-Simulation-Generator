{
 "cells": [
  {
   "cell_type": "code",
   "execution_count": 2,
   "metadata": {},
   "outputs": [],
   "source": [
    "\"\"\"\n",
    "Examples\n",
    "\n",
    "This script demonstrates the features of the simulation generator working with a few test objects.\n",
    "\n",
    "This script requires 'import_ipynb' to be to be installed within the Python environment you are \n",
    "running this script in for access between different jupyter notebook files.\n",
    "This script also requires 'numpy' to be installed for setting the initial conditions of some examples.\n",
    "\"\"\"\n",
    "\n",
    "from numpy import pi\n",
    "import import_ipynb\n",
    "from double_pendulum_simulation_generator import DoublePendulumAnimated\n",
    "\n",
    "def main():\n",
    "    \"\"\"Entry point for code to be ran.\"\"\"\n",
    "    # Sample simulations\n",
    "    # dp = DoublePendulumAnimated()\n",
    "    # dp.generate_dps(animating_energy=True)\n",
    "    # dp1 = DoublePendulumAnimated(t_end=7, name=\"dp1\")\n",
    "    # dp1.generate_dps(animating_dp=True, animating_energy=True, scrolling=False)\n",
    "    # dp2 = DoublePendulumAnimated(n=5, fps=60, t_end=25, name=\"dp2\", trace_size=10)\n",
    "    # dp2.generate_dps(animating_energy=True, scrolling=True, dark_bg=True)\n",
    "    # dp3 = DoublePendulumAnimated(n=2, fps=45, t_end=1, name=\"dp3\", trace_size=200)\n",
    "    # dp3.generate_dps(animating_energy=True, scrolling=False, dark_bg=True)\n",
    "    # dp4 = DoublePendulumAnimated(n=3, fps=200, t_end=3, name=\"dp4\", trace_size=0, variation=pi/3, ic=[3*pi/4, 4, 0, -6])\n",
    "    # dp4.generate_dps(animating_energy=True, scrolling=False, dark_bg=True)\n",
    "    # dp5 = DoublePendulumAnimated(n=32, t_end=15*2, name=\"dp5\", trace_size=5, variation=pi/64, ic=[pi/2, 0, pi/2, 0])\n",
    "    # dp5.generate_dps()\n",
    "\n",
    "\n",
    "if __name__ == \"__main__\":\n",
    "    main()"
   ]
  }
 ],
 "metadata": {
  "kernelspec": {
   "display_name": "Python 3",
   "language": "python",
   "name": "python3"
  },
  "language_info": {
   "codemirror_mode": {
    "name": "ipython",
    "version": 3
   },
   "file_extension": ".py",
   "mimetype": "text/x-python",
   "name": "python",
   "nbconvert_exporter": "python",
   "pygments_lexer": "ipython3",
   "version": "3.10.0"
  }
 },
 "nbformat": 4,
 "nbformat_minor": 2
}
