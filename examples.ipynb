{
 "cells": [
  {
   "cell_type": "code",
   "execution_count": 1,
   "metadata": {},
   "outputs": [
    {
     "name": "stdout",
     "output_type": "stream",
     "text": [
      "importing Jupyter notebook from double_pendulum_simulation_generator.ipynb\n"
     ]
    }
   ],
   "source": [
    "\"\"\"\n",
    "Examples\n",
    "\n",
    "This script demonstrates the features of the simulation generator working with a few test objects.\n",
    "\n",
    "This script requires 'import_ipynb' to be to be installed within the Python environment you are \n",
    "running this script in for access between different jupyter notebook files.\n",
    "\"\"\"\n",
    "\n",
    "import import_ipynb\n",
    "from double_pendulum_simulation_generator import DoublePendulumAnimated\n",
    "\n",
    "def main():\n",
    "    \"\"\"Entry point for code to be ran.\"\"\"\n",
    "    # Sample simulations\n",
    "    # dp = DoublePendulumAnimated()\n",
    "    # dp.generate_dps(animating_energy=True)\n",
    "    # dp2 = DoublePendulumAnimated(n=5, fps=60, t_end=25, name=\"dp2\", trace_size=10)\n",
    "    # dp2.generate_dps(animating_energy=True, dark_bg=True)\n",
    "    # dp5 = DoublePendulumAnimated(n=32, t_end=15*2, name=\"dp5\", trace_size=5, variation=np.pi/64, ic=[np.pi/2, 0, np.pi/2, 0])\n",
    "    # dp5.generate_dps()\n",
    "\n",
    "\n",
    "if __name__ == \"__main__\":\n",
    "    main()"
   ]
  }
 ],
 "metadata": {
  "kernelspec": {
   "display_name": "Python 3",
   "language": "python",
   "name": "python3"
  },
  "language_info": {
   "codemirror_mode": {
    "name": "ipython",
    "version": 3
   },
   "file_extension": ".py",
   "mimetype": "text/x-python",
   "name": "python",
   "nbconvert_exporter": "python",
   "pygments_lexer": "ipython3",
   "version": "3.10.0"
  }
 },
 "nbformat": 4,
 "nbformat_minor": 2
}
