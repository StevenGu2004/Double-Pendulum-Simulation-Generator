{
 "cells": [
  {
   "cell_type": "code",
   "execution_count": 1,
   "metadata": {},
   "outputs": [
    {
     "name": "stdout",
     "output_type": "stream",
     "text": [
      "importing Jupyter notebook from double_pendulum_simulation_generator.ipynb\n"
     ]
    }
   ],
   "source": [
    "\"\"\"\n",
    "Examples\n",
    "\n",
    "This script demonstrates the features of the simulation generator working with a few test objects.\n",
    "\n",
    "This script requires 'import_ipynb' to be to be installed within the Python environment you are \n",
    "running this script in for access between different jupyter notebook files.\n",
    "This script also requires 'numpy' to be installed for setting the initial conditions of some examples.\n",
    "\"\"\"\n",
    "\n",
    "# TODO add more test cases for varying parameters! \n",
    "\n",
    "from numpy import pi\n",
    "import import_ipynb\n",
    "from double_pendulum_simulation_generator import DoublePendulumAnimated\n",
    "\n",
    "def main():\n",
    "    \"\"\"Entry point for code to be ran.\"\"\"\n",
    "    # Sample simulations\n",
    "    # dp = DoublePendulumAnimated()\n",
    "    # dp.generate_dps(animating_energy=True)\n",
    "    dp1 = DoublePendulumAnimated(t_end=5, name=\"dp1\")\n",
    "    dp1.generate_dps(animating_dp=True, dark_bg=True)\n",
    "    # dp2 = DoublePendulumAnimated(n=5, fps=60, t_end=25, name=\"dp2\", trace_size=10)\n",
    "    # dp2.generate_dps(animating_energy=True, scrolling=True, dark_bg=False)\n",
    "    # dp3 = DoublePendulumAnimated(n=2, fps=45, t_end=1, name=\"dp3\", trace_size=200)\n",
    "    # dp3.generate_dps(animating_energy=True, scrolling=False, dark_bg=True)\n",
    "    # dp4 = DoublePendulumAnimated(n=3, fps=200, t_end=3, name=\"dp4\", trace_size=0, variation=pi/3, ic=[3*pi/4, -4, 0, 6])\n",
    "    # dp4.generate_dps(animating_energy=True, scrolling=False, dark_bg=True)\n",
    "    # dp5 = DoublePendulumAnimated(n=32, fps=50, t_end=5, name=\"dp5\", trace_size=5, variation=pi/64, ic=[pi/2, 0, pi/2, 0])\n",
    "    # dp5.generate_dps()\n",
    "    # dp6 = DoublePendulumAnimated(n=3, t_end=10, name=\"dp6\", trace_size=12, p=[2,3,5,7,11], ic=[pi/4, -2, pi/16, -2])\n",
    "    # dp6.generate_dps(animating_energy=True, scrolling=True, dark_bg=True)\n",
    "\n",
    "    # Testing exceptions\n",
    "    # exception1 = DoublePendulumAnimated(n=0)\n",
    "    # exception2 = DoublePendulumAnimated(fps=0)\n",
    "    # exception3 = DoublePendulumAnimated(t_end=0)\n",
    "    # exception4 = DoublePendulumAnimated(p=3.0)\n",
    "    # exception5 = DoublePendulumAnimated(p=[1.0,2,3,4,'5'])\n",
    "    # exception6 = DoublePendulumAnimated(name=[])\n",
    "    # exception7 = DoublePendulumAnimated(trace_size=1.5)\n",
    "    # exception8 = DoublePendulumAnimated(variation=[1,2.3])\n",
    "    # exception9 = DoublePendulumAnimated(ic=[1.0,[1],3,4])\n",
    "\n",
    "\n",
    "if __name__ == \"__main__\":\n",
    "    main()"
   ]
  }
 ],
 "metadata": {
  "kernelspec": {
   "display_name": "Python 3",
   "language": "python",
   "name": "python3"
  },
  "language_info": {
   "codemirror_mode": {
    "name": "ipython",
    "version": 3
   },
   "file_extension": ".py",
   "mimetype": "text/x-python",
   "name": "python",
   "nbconvert_exporter": "python",
   "pygments_lexer": "ipython3",
   "version": "3.10.0"
  }
 },
 "nbformat": 4,
 "nbformat_minor": 2
}
