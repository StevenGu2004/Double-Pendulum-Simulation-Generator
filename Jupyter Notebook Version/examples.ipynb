{
 "cells": [
  {
   "cell_type": "code",
   "execution_count": 1,
   "metadata": {},
   "outputs": [
    {
     "name": "stdout",
     "output_type": "stream",
     "text": [
      "importing Jupyter notebook from double_pendulum_simulation_generator.ipynb\n"
     ]
    }
   ],
   "source": [
    "\"\"\"\n",
    "Examples\n",
    "\n",
    "This script demonstrates the features of the simulation generator working with a few test objects.\n",
    "\n",
    "This script requires 'numpy' to be installed within the Python environment you are \n",
    "running this script in for setting the initial conditions of some examples.\n",
    "\"\"\"\n",
    "\n",
    "# TODO add more test cases for varying parameters!\n",
    "\n",
    "from time import perf_counter\n",
    "from numpy import pi\n",
    "from double_pendulum_simulation_generator import DoublePendulumAnimated\n",
    "\n",
    "\n",
    "def main():\n",
    "    \"\"\"Entry point for code to be ran.\"\"\"\n",
    "    # Sample simulations\n",
    "    # dp_unnamed = DoublePendulumAnimated()\n",
    "    # dp_unnamed.generate_dps(animating_energy=True, update_title_elements=False)\n",
    "    # dp1 = DoublePendulumAnimated(t_end=5, name=\"dp1\")\n",
    "    # dp1.generate_dps(animating_dp=True, update_title_elements=False, dark_bg=True)\n",
    "    # dp2 = DoublePendulumAnimated(n=5, fps=60, t_end=25, name=\"dp2\", trace_size=10)\n",
    "    # dp2.generate_dps(animating_energy=True, scrolling=True, dark_bg=False)\n",
    "    # dp3 = DoublePendulumAnimated(n=2, fps=45, t_end=1, name=\"dp3\", trace_size=200)\n",
    "    # dp3.generate_dps(animating_energy=True, scrolling=False, dark_bg=True)\n",
    "    # dp4 = DoublePendulumAnimated(\n",
    "    #     n=3, fps=200, t_end=3, name=\"dp4\", trace_size=0, variation=pi/3, ic=[3*pi/4, -4, 0, 6])\n",
    "    # dp4.generate_dps(animating_energy=True, scrolling=False, dark_bg=True)\n",
    "    # dp5 = DoublePendulumAnimated(n=32, fps=50, t_end=5, name=\"dp5\", trace_size=5, variation=pi/64, ic=[pi/2, 0, pi/2, 0])\n",
    "    # dp5.generate_dps()\n",
    "    # dp6 = DoublePendulumAnimated(n=3, name=\"dp6\", trace_size=12, p=[\n",
    "    #                              2, 3, 5, 7, 11], ic=[pi/4, -2, pi/16, -2])\n",
    "    # dp6.generate_dps(animating_energy=True, scrolling=True, dark_bg=True)\n",
    "    # dp7 = DoublePendulumAnimated(name=\"dp7\", p=[1, 1, 1, 1, -9.8])\n",
    "    # dp7.generate_dps(animating_energy=True, update_title_elements=False)\n",
    "    # dp8 = DoublePendulumAnimated(n=4, fps=30, t_end=5, p=[\n",
    "    #                              140, 100, 3, 6, 9.8], name=\"dp8\", trace_size=0, variation=pi/7, ic=[pi, 0, pi, 3])\n",
    "    # dp8.generate_dps(animating_dp=True, animating_energy=True,\n",
    "    #                  scrolling=True, dark_bg=True)\n",
    "\n",
    "    # Testing exceptions\n",
    "    # exception1 = DoublePendulumAnimated(n=0)\n",
    "    # exception2 = DoublePendulumAnimated(fps=0)\n",
    "    # exception3 = DoublePendulumAnimated(t_end=0)\n",
    "    # exception4 = DoublePendulumAnimated(p=3.0)\n",
    "    # exception5 = DoublePendulumAnimated(p=[1.0,2,3,4,'5'])\n",
    "    # exception6 = DoublePendulumAnimated(name=[])\n",
    "    # exception7 = DoublePendulumAnimated(trace_size=1.5)\n",
    "    # exception8 = DoublePendulumAnimated(variation=[1,2.3])\n",
    "    # exception9 = DoublePendulumAnimated(ic=[1.0,[1],3,4])\n",
    "    print(\"Simulation Generated.\")\n",
    "\n",
    "\n",
    "if __name__ == \"__main__\":\n",
    "    start = perf_counter()\n",
    "    print(\"Running examples...\")\n",
    "    main()\n",
    "    end = perf_counter()\n",
    "    print(\n",
    "        f\"Time taken for examples to run: {round(end-start, 2)}\")\n"
   ]
  }
 ],
 "metadata": {
  "kernelspec": {
   "display_name": "Python 3",
   "language": "python",
   "name": "python3"
  },
  "language_info": {
   "codemirror_mode": {
    "name": "ipython",
    "version": 3
   },
   "file_extension": ".py",
   "mimetype": "text/x-python",
   "name": "python",
   "nbconvert_exporter": "python",
   "pygments_lexer": "ipython3",
   "version": "3.10.0"
  }
 },
 "nbformat": 4,
 "nbformat_minor": 2
}
